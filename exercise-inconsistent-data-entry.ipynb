{
 "cells": [
  {
   "cell_type": "markdown",
   "id": "2750a672",
   "metadata": {
    "papermill": {
     "duration": 0.006649,
     "end_time": "2023-04-30T11:39:30.478644",
     "exception": false,
     "start_time": "2023-04-30T11:39:30.471995",
     "status": "completed"
    },
    "tags": []
   },
   "source": [
    "**This notebook is an exercise in the [Data Cleaning](https://www.kaggle.com/learn/data-cleaning) course.  You can reference the tutorial at [this link](https://www.kaggle.com/alexisbcook/inconsistent-data-entry).**\n",
    "\n",
    "---\n"
   ]
  },
  {
   "cell_type": "markdown",
   "id": "31344ff7",
   "metadata": {
    "papermill": {
     "duration": 0.004985,
     "end_time": "2023-04-30T11:39:30.489584",
     "exception": false,
     "start_time": "2023-04-30T11:39:30.484599",
     "status": "completed"
    },
    "tags": []
   },
   "source": [
    "In this exercise, you'll apply what you learned in the **Inconsistent data entry** tutorial.\n",
    "\n",
    "# Setup\n",
    "\n",
    "The questions below will give you feedback on your work. Run the following cell to set up the feedback system."
   ]
  },
  {
   "cell_type": "code",
   "execution_count": 1,
   "id": "7814b9f8",
   "metadata": {
    "execution": {
     "iopub.execute_input": "2023-04-30T11:39:30.502183Z",
     "iopub.status.busy": "2023-04-30T11:39:30.501638Z",
     "iopub.status.idle": "2023-04-30T11:39:30.708899Z",
     "shell.execute_reply": "2023-04-30T11:39:30.705957Z"
    },
    "papermill": {
     "duration": 0.216949,
     "end_time": "2023-04-30T11:39:30.711842",
     "exception": false,
     "start_time": "2023-04-30T11:39:30.494893",
     "status": "completed"
    },
    "tags": []
   },
   "outputs": [
    {
     "name": "stdout",
     "output_type": "stream",
     "text": [
      "Setup Complete\n"
     ]
    }
   ],
   "source": [
    "from learntools.core import binder\n",
    "binder.bind(globals())\n",
    "from learntools.data_cleaning.ex5 import *\n",
    "print(\"Setup Complete\")"
   ]
  },
  {
   "cell_type": "markdown",
   "id": "038e3ab8",
   "metadata": {
    "papermill": {
     "duration": 0.005166,
     "end_time": "2023-04-30T11:39:30.722536",
     "exception": false,
     "start_time": "2023-04-30T11:39:30.717370",
     "status": "completed"
    },
    "tags": []
   },
   "source": [
    "# Get our environment set up\n",
    "\n",
    "The first thing we'll need to do is load in the libraries and dataset we'll be using.  We use the same dataset from the tutorial."
   ]
  },
  {
   "cell_type": "code",
   "execution_count": 2,
   "id": "56bccaad",
   "metadata": {
    "execution": {
     "iopub.execute_input": "2023-04-30T11:39:30.735300Z",
     "iopub.status.busy": "2023-04-30T11:39:30.734839Z",
     "iopub.status.idle": "2023-04-30T11:39:30.753821Z",
     "shell.execute_reply": "2023-04-30T11:39:30.752331Z"
    },
    "papermill": {
     "duration": 0.029021,
     "end_time": "2023-04-30T11:39:30.756908",
     "exception": false,
     "start_time": "2023-04-30T11:39:30.727887",
     "status": "completed"
    },
    "tags": []
   },
   "outputs": [],
   "source": [
    "# modules we'll use\n",
    "import pandas as pd\n",
    "import numpy as np\n",
    "\n",
    "# helpful modules\n",
    "import fuzzywuzzy\n",
    "from fuzzywuzzy import process\n",
    "import charset_normalizer\n",
    "\n",
    "# read in all our data\n",
    "professors = pd.read_csv(\"../input/pakistan-intellectual-capital/pakistan_intellectual_capital.csv\")\n",
    "\n",
    "# set seed for reproducibility\n",
    "np.random.seed(0)"
   ]
  },
  {
   "cell_type": "markdown",
   "id": "4d3de8f7",
   "metadata": {
    "papermill": {
     "duration": 0.005089,
     "end_time": "2023-04-30T11:39:30.767554",
     "exception": false,
     "start_time": "2023-04-30T11:39:30.762465",
     "status": "completed"
    },
    "tags": []
   },
   "source": [
    "Next, we'll redo all of the work that we did in the tutorial."
   ]
  },
  {
   "cell_type": "code",
   "execution_count": 3,
   "id": "621cb829",
   "metadata": {
    "execution": {
     "iopub.execute_input": "2023-04-30T11:39:30.780378Z",
     "iopub.status.busy": "2023-04-30T11:39:30.779932Z",
     "iopub.status.idle": "2023-04-30T11:39:30.797582Z",
     "shell.execute_reply": "2023-04-30T11:39:30.795948Z"
    },
    "papermill": {
     "duration": 0.027298,
     "end_time": "2023-04-30T11:39:30.800344",
     "exception": false,
     "start_time": "2023-04-30T11:39:30.773046",
     "status": "completed"
    },
    "tags": []
   },
   "outputs": [
    {
     "name": "stdout",
     "output_type": "stream",
     "text": [
      "All done!\n"
     ]
    }
   ],
   "source": [
    "# convert to lower case\n",
    "professors['Country'] = professors['Country'].str.lower()\n",
    "# remove trailing white spaces\n",
    "professors['Country'] = professors['Country'].str.strip()\n",
    "\n",
    "# get the top 10 closest matches to \"south korea\"\n",
    "countries = professors['Country'].unique()\n",
    "matches = fuzzywuzzy.process.extract(\"south korea\", countries, limit=10, scorer=fuzzywuzzy.fuzz.token_sort_ratio)\n",
    "\n",
    "def replace_matches_in_column(df, column, string_to_match, min_ratio = 47):\n",
    "    # get a list of unique strings\n",
    "    strings = df[column].unique()\n",
    "    \n",
    "    # get the top 10 closest matches to our input string\n",
    "    matches = fuzzywuzzy.process.extract(string_to_match, strings, \n",
    "                                         limit=10, scorer=fuzzywuzzy.fuzz.token_sort_ratio)\n",
    "\n",
    "    # only get matches with a ratio > 90\n",
    "    close_matches = [matches[0] for matches in matches if matches[1] >= min_ratio]\n",
    "\n",
    "    # get the rows of all the close matches in our dataframe\n",
    "    rows_with_matches = df[column].isin(close_matches)\n",
    "\n",
    "    # replace all rows with close matches with the input matches \n",
    "    df.loc[rows_with_matches, column] = string_to_match\n",
    "    \n",
    "    # let us know the function's done\n",
    "    print(\"All done!\")\n",
    "    \n",
    "replace_matches_in_column(df=professors, column='Country', string_to_match=\"south korea\")\n",
    "countries = professors['Country'].unique()"
   ]
  },
  {
   "cell_type": "markdown",
   "id": "61254a39",
   "metadata": {
    "papermill": {
     "duration": 0.005379,
     "end_time": "2023-04-30T11:39:30.811227",
     "exception": false,
     "start_time": "2023-04-30T11:39:30.805848",
     "status": "completed"
    },
    "tags": []
   },
   "source": [
    "# 1) Examine another column\n",
    "\n",
    "Write code below to take a look at all the unique values in the \"Graduated from\" column."
   ]
  },
  {
   "cell_type": "code",
   "execution_count": 4,
   "id": "19cf92a5",
   "metadata": {
    "execution": {
     "iopub.execute_input": "2023-04-30T11:39:30.824120Z",
     "iopub.status.busy": "2023-04-30T11:39:30.823666Z",
     "iopub.status.idle": "2023-04-30T11:39:30.830185Z",
     "shell.execute_reply": "2023-04-30T11:39:30.828906Z"
    },
    "papermill": {
     "duration": 0.016255,
     "end_time": "2023-04-30T11:39:30.832935",
     "exception": false,
     "start_time": "2023-04-30T11:39:30.816680",
     "status": "completed"
    },
    "tags": []
   },
   "outputs": [],
   "source": [
    "# TODO: Your code here\n",
    "unis = professors['Graduated from'].unique()"
   ]
  },
  {
   "cell_type": "markdown",
   "id": "cfe33e41",
   "metadata": {
    "papermill": {
     "duration": 0.005188,
     "end_time": "2023-04-30T11:39:30.843687",
     "exception": false,
     "start_time": "2023-04-30T11:39:30.838499",
     "status": "completed"
    },
    "tags": []
   },
   "source": [
    "Do you notice any inconsistencies in the data?  Can any of the inconsistencies in the data be fixed by removing white spaces at the beginning and end of cells?\n",
    "\n",
    "Once you have answered these questions, run the code cell below to get credit for your work."
   ]
  },
  {
   "cell_type": "code",
   "execution_count": 5,
   "id": "f195736d",
   "metadata": {
    "execution": {
     "iopub.execute_input": "2023-04-30T11:39:30.856296Z",
     "iopub.status.busy": "2023-04-30T11:39:30.855863Z",
     "iopub.status.idle": "2023-04-30T11:39:30.866806Z",
     "shell.execute_reply": "2023-04-30T11:39:30.865457Z"
    },
    "papermill": {
     "duration": 0.020202,
     "end_time": "2023-04-30T11:39:30.869304",
     "exception": false,
     "start_time": "2023-04-30T11:39:30.849102",
     "status": "completed"
    },
    "tags": []
   },
   "outputs": [
    {
     "data": {
      "application/javascript": [
       "parent.postMessage({\"jupyterEvent\": \"custom.exercise_interaction\", \"data\": {\"outcomeType\": 1, \"valueTowardsCompletion\": 0.3333333333333333, \"interactionType\": 1, \"questionType\": 4, \"questionId\": \"1_ExamineProvince\", \"learnToolsVersion\": \"0.3.4\", \"failureMessage\": \"\", \"exceptionClass\": \"\", \"trace\": \"\"}}, \"*\")"
      ],
      "text/plain": [
       "<IPython.core.display.Javascript object>"
      ]
     },
     "metadata": {},
     "output_type": "display_data"
    },
    {
     "data": {
      "text/markdown": [
       "<span style=\"color:#33cc33\">Correct:</span> \n",
       "\n",
       "There are inconsistencies that can be fixed by removing white spaces at the beginning and end of cells.  For instance, \"University of Central Florida\" and \" University of Central Florida\" both appear in the column."
      ],
      "text/plain": [
       "Correct: \n",
       "\n",
       "There are inconsistencies that can be fixed by removing white spaces at the beginning and end of cells.  For instance, \"University of Central Florida\" and \" University of Central Florida\" both appear in the column."
      ]
     },
     "metadata": {},
     "output_type": "display_data"
    }
   ],
   "source": [
    "# Check your answer (Run this code cell to receive credit!)\n",
    "q1.check()"
   ]
  },
  {
   "cell_type": "code",
   "execution_count": 6,
   "id": "90669877",
   "metadata": {
    "execution": {
     "iopub.execute_input": "2023-04-30T11:39:30.883041Z",
     "iopub.status.busy": "2023-04-30T11:39:30.882273Z",
     "iopub.status.idle": "2023-04-30T11:39:30.886792Z",
     "shell.execute_reply": "2023-04-30T11:39:30.885489Z"
    },
    "papermill": {
     "duration": 0.014194,
     "end_time": "2023-04-30T11:39:30.889309",
     "exception": false,
     "start_time": "2023-04-30T11:39:30.875115",
     "status": "completed"
    },
    "tags": []
   },
   "outputs": [],
   "source": [
    "# Line below will give you a hint\n",
    "#q1.hint()"
   ]
  },
  {
   "cell_type": "markdown",
   "id": "90768198",
   "metadata": {
    "papermill": {
     "duration": 0.005315,
     "end_time": "2023-04-30T11:39:30.900483",
     "exception": false,
     "start_time": "2023-04-30T11:39:30.895168",
     "status": "completed"
    },
    "tags": []
   },
   "source": [
    "# 2) Do some text pre-processing\n",
    "\n",
    "Convert every entry in the \"Graduated from\" column in the `professors` DataFrame to remove white spaces at the beginning and end of cells."
   ]
  },
  {
   "cell_type": "code",
   "execution_count": 7,
   "id": "ccf55a13",
   "metadata": {
    "execution": {
     "iopub.execute_input": "2023-04-30T11:39:30.914932Z",
     "iopub.status.busy": "2023-04-30T11:39:30.914495Z",
     "iopub.status.idle": "2023-04-30T11:39:30.929358Z",
     "shell.execute_reply": "2023-04-30T11:39:30.927972Z"
    },
    "papermill": {
     "duration": 0.025537,
     "end_time": "2023-04-30T11:39:30.931709",
     "exception": false,
     "start_time": "2023-04-30T11:39:30.906172",
     "status": "completed"
    },
    "tags": []
   },
   "outputs": [
    {
     "data": {
      "application/javascript": [
       "parent.postMessage({\"jupyterEvent\": \"custom.exercise_interaction\", \"data\": {\"outcomeType\": 1, \"valueTowardsCompletion\": 0.3333333333333333, \"interactionType\": 1, \"questionType\": 1, \"questionId\": \"2_TextProcessing\", \"learnToolsVersion\": \"0.3.4\", \"failureMessage\": \"\", \"exceptionClass\": \"\", \"trace\": \"\"}}, \"*\")"
      ],
      "text/plain": [
       "<IPython.core.display.Javascript object>"
      ]
     },
     "metadata": {},
     "output_type": "display_data"
    },
    {
     "data": {
      "text/markdown": [
       "<span style=\"color:#33cc33\">Correct</span>"
      ],
      "text/plain": [
       "Correct"
      ]
     },
     "metadata": {},
     "output_type": "display_data"
    }
   ],
   "source": [
    "# TODO: Your code here\n",
    "professors['Graduated from'] = professors['Graduated from'].str.strip()\n",
    "\n",
    "# Check your answer\n",
    "q2.check()"
   ]
  },
  {
   "cell_type": "code",
   "execution_count": 8,
   "id": "8237a302",
   "metadata": {
    "execution": {
     "iopub.execute_input": "2023-04-30T11:39:30.946424Z",
     "iopub.status.busy": "2023-04-30T11:39:30.945527Z",
     "iopub.status.idle": "2023-04-30T11:39:30.950639Z",
     "shell.execute_reply": "2023-04-30T11:39:30.949645Z"
    },
    "papermill": {
     "duration": 0.015565,
     "end_time": "2023-04-30T11:39:30.953153",
     "exception": false,
     "start_time": "2023-04-30T11:39:30.937588",
     "status": "completed"
    },
    "tags": []
   },
   "outputs": [],
   "source": [
    "# Lines below will give you a hint or solution code\n",
    "#q2.hint()\n",
    "#q2.solution()"
   ]
  },
  {
   "cell_type": "markdown",
   "id": "040d253c",
   "metadata": {
    "papermill": {
     "duration": 0.005743,
     "end_time": "2023-04-30T11:39:30.964914",
     "exception": false,
     "start_time": "2023-04-30T11:39:30.959171",
     "status": "completed"
    },
    "tags": []
   },
   "source": [
    "# 3) Continue working with countries\n",
    "\n",
    "In the tutorial, we focused on cleaning up inconsistencies in the \"Country\" column.  Run the code cell below to view the list of unique values that we ended with."
   ]
  },
  {
   "cell_type": "code",
   "execution_count": 9,
   "id": "192ef574",
   "metadata": {
    "execution": {
     "iopub.execute_input": "2023-04-30T11:39:30.979830Z",
     "iopub.status.busy": "2023-04-30T11:39:30.978299Z",
     "iopub.status.idle": "2023-04-30T11:39:30.988899Z",
     "shell.execute_reply": "2023-04-30T11:39:30.987575Z"
    },
    "papermill": {
     "duration": 0.020474,
     "end_time": "2023-04-30T11:39:30.991381",
     "exception": false,
     "start_time": "2023-04-30T11:39:30.970907",
     "status": "completed"
    },
    "tags": []
   },
   "outputs": [
    {
     "data": {
      "text/plain": [
       "array(['australia', 'austria', 'canada', 'china', 'finland', 'france',\n",
       "       'germany', 'greece', 'hongkong', 'ireland', 'italy', 'japan',\n",
       "       'macau', 'malaysia', 'mauritius', 'netherland', 'new zealand',\n",
       "       'norway', 'pakistan', 'portugal', 'russian federation',\n",
       "       'saudi arabia', 'scotland', 'singapore', 'south korea', 'spain',\n",
       "       'sweden', 'thailand', 'turkey', 'uk', 'urbana', 'usa', 'usofa'],\n",
       "      dtype=object)"
      ]
     },
     "execution_count": 9,
     "metadata": {},
     "output_type": "execute_result"
    }
   ],
   "source": [
    "# get all the unique values in the 'City' column\n",
    "countries = professors['Country'].unique()\n",
    "\n",
    "# sort them alphabetically and then take a closer look\n",
    "countries.sort()\n",
    "countries"
   ]
  },
  {
   "cell_type": "markdown",
   "id": "a88badc6",
   "metadata": {
    "papermill": {
     "duration": 0.005863,
     "end_time": "2023-04-30T11:39:31.003366",
     "exception": false,
     "start_time": "2023-04-30T11:39:30.997503",
     "status": "completed"
    },
    "tags": []
   },
   "source": [
    "Take another look at the \"Country\" column and see if there's any more data cleaning we need to do.\n",
    "\n",
    "It looks like 'usa' and 'usofa' should be the same country.  Correct the \"Country\" column in the dataframe to replace 'usofa' with 'usa'.\n",
    "\n",
    "**Use the most recent version of the DataFrame (with the whitespaces at the beginning and end of cells removed) from question 2.**"
   ]
  },
  {
   "cell_type": "code",
   "execution_count": 10,
   "id": "eaced27a",
   "metadata": {
    "execution": {
     "iopub.execute_input": "2023-04-30T11:39:31.017950Z",
     "iopub.status.busy": "2023-04-30T11:39:31.017171Z",
     "iopub.status.idle": "2023-04-30T11:39:31.027473Z",
     "shell.execute_reply": "2023-04-30T11:39:31.026503Z"
    },
    "papermill": {
     "duration": 0.020331,
     "end_time": "2023-04-30T11:39:31.029779",
     "exception": false,
     "start_time": "2023-04-30T11:39:31.009448",
     "status": "completed"
    },
    "tags": []
   },
   "outputs": [
    {
     "data": {
      "application/javascript": [
       "parent.postMessage({\"jupyterEvent\": \"custom.exercise_interaction\", \"data\": {\"outcomeType\": 2, \"failureMessage\": \"Incorrect value for `professors`\", \"interactionType\": 1, \"questionType\": 1, \"questionId\": \"3_WorkingWithCities\", \"learnToolsVersion\": \"0.3.4\", \"valueTowardsCompletion\": 0.0, \"exceptionClass\": \"\", \"trace\": \"\"}}, \"*\")"
      ],
      "text/plain": [
       "<IPython.core.display.Javascript object>"
      ]
     },
     "metadata": {},
     "output_type": "display_data"
    },
    {
     "data": {
      "text/markdown": [
       "<span style=\"color:#cc3333\">Incorrect:</span> Incorrect value for `professors`"
      ],
      "text/plain": [
       "Incorrect: Incorrect value for `professors`"
      ]
     },
     "metadata": {},
     "output_type": "display_data"
    }
   ],
   "source": [
    "# TODO: Your code here!\n",
    "____\n",
    "\n",
    "# Check your answer\n",
    "q3.check()"
   ]
  },
  {
   "cell_type": "code",
   "execution_count": 11,
   "id": "78bd9fc5",
   "metadata": {
    "execution": {
     "iopub.execute_input": "2023-04-30T11:39:31.044848Z",
     "iopub.status.busy": "2023-04-30T11:39:31.043955Z",
     "iopub.status.idle": "2023-04-30T11:39:31.049384Z",
     "shell.execute_reply": "2023-04-30T11:39:31.048092Z"
    },
    "papermill": {
     "duration": 0.015755,
     "end_time": "2023-04-30T11:39:31.051889",
     "exception": false,
     "start_time": "2023-04-30T11:39:31.036134",
     "status": "completed"
    },
    "tags": []
   },
   "outputs": [],
   "source": [
    "# Lines below will give you a hint or solution code\n",
    "#q3.hint()\n",
    "#q3.solution()"
   ]
  },
  {
   "cell_type": "markdown",
   "id": "86ea35da",
   "metadata": {
    "papermill": {
     "duration": 0.006253,
     "end_time": "2023-04-30T11:39:31.064595",
     "exception": false,
     "start_time": "2023-04-30T11:39:31.058342",
     "status": "completed"
    },
    "tags": []
   },
   "source": [
    "# Congratulations!\n",
    "\n",
    "Congratulations for completing the **Data Cleaning** course on Kaggle Learn!\n",
    "\n",
    "To practice your new skills, you're encouraged to download and investigate some of [Kaggle's Datasets](https://www.kaggle.com/datasets)."
   ]
  },
  {
   "cell_type": "markdown",
   "id": "e10e1591",
   "metadata": {
    "papermill": {
     "duration": 0.005906,
     "end_time": "2023-04-30T11:39:31.077049",
     "exception": false,
     "start_time": "2023-04-30T11:39:31.071143",
     "status": "completed"
    },
    "tags": []
   },
   "source": [
    "---\n",
    "\n",
    "\n",
    "\n",
    "\n",
    "*Have questions or comments? Visit the [course discussion forum](https://www.kaggle.com/learn/data-cleaning/discussion) to chat with other learners.*"
   ]
  }
 ],
 "metadata": {
  "kernelspec": {
   "display_name": "Python 3",
   "language": "python",
   "name": "python3"
  },
  "language_info": {
   "codemirror_mode": {
    "name": "ipython",
    "version": 3
   },
   "file_extension": ".py",
   "mimetype": "text/x-python",
   "name": "python",
   "nbconvert_exporter": "python",
   "pygments_lexer": "ipython3",
   "version": "3.7.12"
  },
  "papermill": {
   "default_parameters": {},
   "duration": 12.733983,
   "end_time": "2023-04-30T11:39:31.807705",
   "environment_variables": {},
   "exception": null,
   "input_path": "__notebook__.ipynb",
   "output_path": "__notebook__.ipynb",
   "parameters": {},
   "start_time": "2023-04-30T11:39:19.073722",
   "version": "2.4.0"
  }
 },
 "nbformat": 4,
 "nbformat_minor": 5
}
