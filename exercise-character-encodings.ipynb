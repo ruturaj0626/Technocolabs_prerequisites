{
 "cells": [
  {
   "cell_type": "markdown",
   "id": "6f497eb6",
   "metadata": {
    "papermill": {
     "duration": 0.005698,
     "end_time": "2023-04-30T11:39:23.209053",
     "exception": false,
     "start_time": "2023-04-30T11:39:23.203355",
     "status": "completed"
    },
    "tags": []
   },
   "source": [
    "**This notebook is an exercise in the [Data Cleaning](https://www.kaggle.com/learn/data-cleaning) course.  You can reference the tutorial at [this link](https://www.kaggle.com/alexisbcook/character-encodings).**\n",
    "\n",
    "---\n"
   ]
  },
  {
   "cell_type": "markdown",
   "id": "e5afe7d7",
   "metadata": {
    "papermill": {
     "duration": 0.004137,
     "end_time": "2023-04-30T11:39:23.217861",
     "exception": false,
     "start_time": "2023-04-30T11:39:23.213724",
     "status": "completed"
    },
    "tags": []
   },
   "source": [
    "In this exercise, you'll apply what you learned in the **Character encodings** tutorial.\n",
    "\n",
    "# Setup\n",
    "\n",
    "The questions below will give you feedback on your work. Run the following cell to set up the feedback system."
   ]
  },
  {
   "cell_type": "code",
   "execution_count": 1,
   "id": "ed4871a8",
   "metadata": {
    "execution": {
     "iopub.execute_input": "2023-04-30T11:39:23.228915Z",
     "iopub.status.busy": "2023-04-30T11:39:23.228264Z",
     "iopub.status.idle": "2023-04-30T11:39:23.307237Z",
     "shell.execute_reply": "2023-04-30T11:39:23.305716Z"
    },
    "papermill": {
     "duration": 0.087547,
     "end_time": "2023-04-30T11:39:23.309793",
     "exception": false,
     "start_time": "2023-04-30T11:39:23.222246",
     "status": "completed"
    },
    "tags": []
   },
   "outputs": [
    {
     "name": "stdout",
     "output_type": "stream",
     "text": [
      "Setup Complete\n"
     ]
    }
   ],
   "source": [
    "from learntools.core import binder\n",
    "binder.bind(globals())\n",
    "from learntools.data_cleaning.ex4 import *\n",
    "print(\"Setup Complete\")"
   ]
  },
  {
   "cell_type": "markdown",
   "id": "cb042be3",
   "metadata": {
    "papermill": {
     "duration": 0.004169,
     "end_time": "2023-04-30T11:39:23.318512",
     "exception": false,
     "start_time": "2023-04-30T11:39:23.314343",
     "status": "completed"
    },
    "tags": []
   },
   "source": [
    "# Get our environment set up\n",
    "\n",
    "The first thing we'll need to do is load in the libraries we'll be using."
   ]
  },
  {
   "cell_type": "code",
   "execution_count": 2,
   "id": "8624ac3e",
   "metadata": {
    "execution": {
     "iopub.execute_input": "2023-04-30T11:39:23.329179Z",
     "iopub.status.busy": "2023-04-30T11:39:23.328740Z",
     "iopub.status.idle": "2023-04-30T11:39:23.334173Z",
     "shell.execute_reply": "2023-04-30T11:39:23.333051Z"
    },
    "papermill": {
     "duration": 0.013771,
     "end_time": "2023-04-30T11:39:23.336712",
     "exception": false,
     "start_time": "2023-04-30T11:39:23.322941",
     "status": "completed"
    },
    "tags": []
   },
   "outputs": [],
   "source": [
    "# modules we'll use\n",
    "import pandas as pd\n",
    "import numpy as np\n",
    "\n",
    "# helpful character encoding module\n",
    "import charset_normalizer\n",
    "\n",
    "# set seed for reproducibility\n",
    "np.random.seed(0)"
   ]
  },
  {
   "cell_type": "markdown",
   "id": "7ff517bf",
   "metadata": {
    "papermill": {
     "duration": 0.004097,
     "end_time": "2023-04-30T11:39:23.345328",
     "exception": false,
     "start_time": "2023-04-30T11:39:23.341231",
     "status": "completed"
    },
    "tags": []
   },
   "source": [
    "# 1) What are encodings?\n",
    "\n",
    "You're working with a dataset composed of bytes.  Run the code cell below to print a sample entry."
   ]
  },
  {
   "cell_type": "code",
   "execution_count": 3,
   "id": "662d7e82",
   "metadata": {
    "execution": {
     "iopub.execute_input": "2023-04-30T11:39:23.356170Z",
     "iopub.status.busy": "2023-04-30T11:39:23.355404Z",
     "iopub.status.idle": "2023-04-30T11:39:23.361751Z",
     "shell.execute_reply": "2023-04-30T11:39:23.360462Z"
    },
    "papermill": {
     "duration": 0.014778,
     "end_time": "2023-04-30T11:39:23.364473",
     "exception": false,
     "start_time": "2023-04-30T11:39:23.349695",
     "status": "completed"
    },
    "tags": []
   },
   "outputs": [
    {
     "name": "stdout",
     "output_type": "stream",
     "text": [
      "b'\\xa7A\\xa6n'\n",
      "data type: <class 'bytes'>\n"
     ]
    }
   ],
   "source": [
    "sample_entry = b'\\xa7A\\xa6n'\n",
    "print(sample_entry)\n",
    "print('data type:', type(sample_entry))"
   ]
  },
  {
   "cell_type": "markdown",
   "id": "1b176d9f",
   "metadata": {
    "papermill": {
     "duration": 0.004225,
     "end_time": "2023-04-30T11:39:23.373158",
     "exception": false,
     "start_time": "2023-04-30T11:39:23.368933",
     "status": "completed"
    },
    "tags": []
   },
   "source": [
    "You notice that it doesn't use the standard UTF-8 encoding. \n",
    "\n",
    "Use the next code cell to create a variable `new_entry` that changes the encoding from `\"big5-tw\"` to `\"utf-8\"`.  `new_entry` should have the bytes datatype."
   ]
  },
  {
   "cell_type": "code",
   "execution_count": 4,
   "id": "9608ac36",
   "metadata": {
    "execution": {
     "iopub.execute_input": "2023-04-30T11:39:23.384389Z",
     "iopub.status.busy": "2023-04-30T11:39:23.383642Z",
     "iopub.status.idle": "2023-04-30T11:39:23.395106Z",
     "shell.execute_reply": "2023-04-30T11:39:23.393792Z"
    },
    "papermill": {
     "duration": 0.019814,
     "end_time": "2023-04-30T11:39:23.397525",
     "exception": false,
     "start_time": "2023-04-30T11:39:23.377711",
     "status": "completed"
    },
    "tags": []
   },
   "outputs": [
    {
     "data": {
      "application/javascript": [
       "parent.postMessage({\"jupyterEvent\": \"custom.exercise_interaction\", \"data\": {\"outcomeType\": 1, \"valueTowardsCompletion\": 0.3333333333333333, \"interactionType\": 1, \"questionType\": 1, \"questionId\": \"1_EncodingsIntro\", \"learnToolsVersion\": \"0.3.4\", \"failureMessage\": \"\", \"exceptionClass\": \"\", \"trace\": \"\"}}, \"*\")"
      ],
      "text/plain": [
       "<IPython.core.display.Javascript object>"
      ]
     },
     "metadata": {},
     "output_type": "display_data"
    },
    {
     "data": {
      "text/markdown": [
       "<span style=\"color:#33cc33\">Correct</span>"
      ],
      "text/plain": [
       "Correct"
      ]
     },
     "metadata": {},
     "output_type": "display_data"
    }
   ],
   "source": [
    "before = sample_entry.decode(\"big5-tw\")\n",
    "\n",
    "new_entry = before.encode()\n",
    "\n",
    "# Check your answer\n",
    "q1.check()"
   ]
  },
  {
   "cell_type": "code",
   "execution_count": 5,
   "id": "e7fce245",
   "metadata": {
    "execution": {
     "iopub.execute_input": "2023-04-30T11:39:23.409688Z",
     "iopub.status.busy": "2023-04-30T11:39:23.408808Z",
     "iopub.status.idle": "2023-04-30T11:39:23.414187Z",
     "shell.execute_reply": "2023-04-30T11:39:23.412781Z"
    },
    "papermill": {
     "duration": 0.014396,
     "end_time": "2023-04-30T11:39:23.416836",
     "exception": false,
     "start_time": "2023-04-30T11:39:23.402440",
     "status": "completed"
    },
    "tags": []
   },
   "outputs": [],
   "source": [
    "# Lines below will give you a hint or solution code\n",
    "#q1.hint()\n",
    "#q1.solution()"
   ]
  },
  {
   "cell_type": "markdown",
   "id": "d7fa5ad1",
   "metadata": {
    "papermill": {
     "duration": 0.004772,
     "end_time": "2023-04-30T11:39:23.426818",
     "exception": false,
     "start_time": "2023-04-30T11:39:23.422046",
     "status": "completed"
    },
    "tags": []
   },
   "source": [
    "# 2) Reading in files with encoding problems\n",
    "\n",
    "Use the code cell below to read in this file at path `\"../input/fatal-police-shootings-in-the-us/PoliceKillingsUS.csv\"`.  \n",
    "\n",
    "Figure out what the correct encoding should be and read in the file to a DataFrame `police_killings`."
   ]
  },
  {
   "cell_type": "code",
   "execution_count": 6,
   "id": "bcc891a1",
   "metadata": {
    "execution": {
     "iopub.execute_input": "2023-04-30T11:39:23.439040Z",
     "iopub.status.busy": "2023-04-30T11:39:23.438602Z",
     "iopub.status.idle": "2023-04-30T11:39:23.448441Z",
     "shell.execute_reply": "2023-04-30T11:39:23.447178Z"
    },
    "papermill": {
     "duration": 0.018796,
     "end_time": "2023-04-30T11:39:23.450688",
     "exception": false,
     "start_time": "2023-04-30T11:39:23.431892",
     "status": "completed"
    },
    "tags": []
   },
   "outputs": [
    {
     "data": {
      "application/javascript": [
       "parent.postMessage({\"jupyterEvent\": \"custom.exercise_interaction\", \"data\": {\"outcomeType\": 4, \"interactionType\": 1, \"questionType\": 1, \"questionId\": \"2_ReadIn\", \"learnToolsVersion\": \"0.3.4\", \"valueTowardsCompletion\": 0.0, \"failureMessage\": \"\", \"exceptionClass\": \"\", \"trace\": \"\"}}, \"*\")"
      ],
      "text/plain": [
       "<IPython.core.display.Javascript object>"
      ]
     },
     "metadata": {},
     "output_type": "display_data"
    },
    {
     "data": {
      "text/markdown": [
       "<span style=\"color:#ccaa33\">Check:</span> When you've updated the starter code, `check()` will tell you whether your code is correct. You need to update the code that creates variable `police_killings`"
      ],
      "text/plain": [
       "Check: When you've updated the starter code, `check()` will tell you whether your code is correct. You need to update the code that creates variable `police_killings`"
      ]
     },
     "metadata": {},
     "output_type": "display_data"
    }
   ],
   "source": [
    "# TODO: Load in the DataFrame correctly.\n",
    "police_killings = ____\n",
    "\n",
    "# Check your answer\n",
    "q2.check()"
   ]
  },
  {
   "cell_type": "markdown",
   "id": "de1f340a",
   "metadata": {
    "papermill": {
     "duration": 0.004951,
     "end_time": "2023-04-30T11:39:23.460890",
     "exception": false,
     "start_time": "2023-04-30T11:39:23.455939",
     "status": "completed"
    },
    "tags": []
   },
   "source": [
    "Feel free to use any additional code cells for supplemental work.  To get credit for finishing this question, you'll need to run `q2.check()` and get a result of **Correct**."
   ]
  },
  {
   "cell_type": "code",
   "execution_count": 7,
   "id": "f5190e6a",
   "metadata": {
    "execution": {
     "iopub.execute_input": "2023-04-30T11:39:23.473361Z",
     "iopub.status.busy": "2023-04-30T11:39:23.472908Z",
     "iopub.status.idle": "2023-04-30T11:39:23.478332Z",
     "shell.execute_reply": "2023-04-30T11:39:23.476872Z"
    },
    "papermill": {
     "duration": 0.014654,
     "end_time": "2023-04-30T11:39:23.480752",
     "exception": false,
     "start_time": "2023-04-30T11:39:23.466098",
     "status": "completed"
    },
    "tags": []
   },
   "outputs": [],
   "source": [
    "# (Optional) Use this code cell for any additional work."
   ]
  },
  {
   "cell_type": "code",
   "execution_count": 8,
   "id": "f4568210",
   "metadata": {
    "execution": {
     "iopub.execute_input": "2023-04-30T11:39:23.493399Z",
     "iopub.status.busy": "2023-04-30T11:39:23.492957Z",
     "iopub.status.idle": "2023-04-30T11:39:23.497572Z",
     "shell.execute_reply": "2023-04-30T11:39:23.496332Z"
    },
    "papermill": {
     "duration": 0.013516,
     "end_time": "2023-04-30T11:39:23.499761",
     "exception": false,
     "start_time": "2023-04-30T11:39:23.486245",
     "status": "completed"
    },
    "tags": []
   },
   "outputs": [],
   "source": [
    "# Lines below will give you a hint or solution code\n",
    "#q2.hint()\n",
    "#q2.solution()"
   ]
  },
  {
   "cell_type": "markdown",
   "id": "1c9865ba",
   "metadata": {
    "papermill": {
     "duration": 0.004973,
     "end_time": "2023-04-30T11:39:23.510109",
     "exception": false,
     "start_time": "2023-04-30T11:39:23.505136",
     "status": "completed"
    },
    "tags": []
   },
   "source": [
    "# 3) Saving your files with UTF-8 encoding\n",
    "\n",
    "Save a version of the police killings dataset to CSV with UTF-8 encoding.  Your answer will be marked correct after saving this file.  \n",
    "\n",
    "Note: When using the `to_csv()` method, supply only the name of the file (e.g., `\"my_file.csv\"`).  This saves the file at the filepath `\"/kaggle/working/my_file.csv\"`."
   ]
  },
  {
   "cell_type": "code",
   "execution_count": 9,
   "id": "958e4ec8",
   "metadata": {
    "execution": {
     "iopub.execute_input": "2023-04-30T11:39:23.522697Z",
     "iopub.status.busy": "2023-04-30T11:39:23.521893Z",
     "iopub.status.idle": "2023-04-30T11:39:23.531307Z",
     "shell.execute_reply": "2023-04-30T11:39:23.530316Z"
    },
    "papermill": {
     "duration": 0.018208,
     "end_time": "2023-04-30T11:39:23.533524",
     "exception": false,
     "start_time": "2023-04-30T11:39:23.515316",
     "status": "completed"
    },
    "tags": []
   },
   "outputs": [
    {
     "data": {
      "application/javascript": [
       "parent.postMessage({\"jupyterEvent\": \"custom.exercise_interaction\", \"data\": {\"outcomeType\": 2, \"failureMessage\": \"Please save a CSV file and run this code cell again to get credit!\", \"interactionType\": 1, \"questionType\": 2, \"questionId\": \"3_SaveCSV\", \"learnToolsVersion\": \"0.3.4\", \"valueTowardsCompletion\": 0.0, \"exceptionClass\": \"\", \"trace\": \"\"}}, \"*\")"
      ],
      "text/plain": [
       "<IPython.core.display.Javascript object>"
      ]
     },
     "metadata": {},
     "output_type": "display_data"
    },
    {
     "data": {
      "text/markdown": [
       "<span style=\"color:#cc3333\">Incorrect:</span> Please save a CSV file and run this code cell again to get credit!"
      ],
      "text/plain": [
       "Incorrect: Please save a CSV file and run this code cell again to get credit!"
      ]
     },
     "metadata": {},
     "output_type": "display_data"
    }
   ],
   "source": [
    "# TODO: Save the police killings dataset to CSV\n",
    "____\n",
    "\n",
    "# Check your answer\n",
    "q3.check()"
   ]
  },
  {
   "cell_type": "code",
   "execution_count": 10,
   "id": "3615b25f",
   "metadata": {
    "execution": {
     "iopub.execute_input": "2023-04-30T11:39:23.547138Z",
     "iopub.status.busy": "2023-04-30T11:39:23.546348Z",
     "iopub.status.idle": "2023-04-30T11:39:23.551856Z",
     "shell.execute_reply": "2023-04-30T11:39:23.550583Z"
    },
    "papermill": {
     "duration": 0.015092,
     "end_time": "2023-04-30T11:39:23.554528",
     "exception": false,
     "start_time": "2023-04-30T11:39:23.539436",
     "status": "completed"
    },
    "tags": []
   },
   "outputs": [],
   "source": [
    "# Lines below will give you a hint or solution code\n",
    "#q3.hint()\n",
    "#q3.solution()"
   ]
  },
  {
   "cell_type": "markdown",
   "id": "3f25daaf",
   "metadata": {
    "papermill": {
     "duration": 0.005775,
     "end_time": "2023-04-30T11:39:23.566283",
     "exception": false,
     "start_time": "2023-04-30T11:39:23.560508",
     "status": "completed"
    },
    "tags": []
   },
   "source": [
    "# (Optional) More practice\n",
    "\n",
    "Check out [this dataset of files in different character encodings](https://www.kaggle.com/rtatman/character-encoding-examples). Can you read in all the files with their original encodings and them save them out as UTF-8 files?\n",
    "\n",
    "If you have a file that's in UTF-8 but has just a couple of weird-looking characters in it, you can try out the [ftfy module](https://ftfy.readthedocs.io/en/latest/#) and see if it helps. \n",
    "\n",
    "# Keep going\n",
    "\n",
    "In the final lesson, learn how to [**clean up inconsistent text entries**](https://www.kaggle.com/alexisbcook/inconsistent-data-entry) in your dataset."
   ]
  },
  {
   "cell_type": "markdown",
   "id": "668eb9a8",
   "metadata": {
    "papermill": {
     "duration": 0.005275,
     "end_time": "2023-04-30T11:39:23.577293",
     "exception": false,
     "start_time": "2023-04-30T11:39:23.572018",
     "status": "completed"
    },
    "tags": []
   },
   "source": [
    "---\n",
    "\n",
    "\n",
    "\n",
    "\n",
    "*Have questions or comments? Visit the [course discussion forum](https://www.kaggle.com/learn/data-cleaning/discussion) to chat with other learners.*"
   ]
  }
 ],
 "metadata": {
  "kernelspec": {
   "display_name": "Python 3",
   "language": "python",
   "name": "python3"
  },
  "language_info": {
   "codemirror_mode": {
    "name": "ipython",
    "version": 3
   },
   "file_extension": ".py",
   "mimetype": "text/x-python",
   "name": "python",
   "nbconvert_exporter": "python",
   "pygments_lexer": "ipython3",
   "version": "3.7.12"
  },
  "papermill": {
   "default_parameters": {},
   "duration": 11.957318,
   "end_time": "2023-04-30T11:39:24.307746",
   "environment_variables": {},
   "exception": null,
   "input_path": "__notebook__.ipynb",
   "output_path": "__notebook__.ipynb",
   "parameters": {},
   "start_time": "2023-04-30T11:39:12.350428",
   "version": "2.4.0"
  }
 },
 "nbformat": 4,
 "nbformat_minor": 5
}
